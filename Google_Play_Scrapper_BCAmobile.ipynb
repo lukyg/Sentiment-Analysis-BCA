{
  "cells": [
    {
      "cell_type": "markdown",
      "metadata": {
        "id": "AoxnisuBhmcl"
      },
      "source": [
        "# Scrapping Dataset"
      ]
    },
    {
      "cell_type": "markdown",
      "metadata": {
        "id": "tzgxgNTgiBsf"
      },
      "source": [
        "Pada proyek ini, kita akan melakukan analisis sentimen terhadap ulasan dan pendapat pengguna terkait aplikasi \"BCA mobile\" di Play Store. Analisis sentimen ini bertujuan untuk memahami bagaimana pengguna merasakan dan mengungkapkan pandangan mereka terhadap layanan yang disediakan oleh aplikasi perbankan digital ini.\n",
        "\n",
        "Dengan memanfaatkan berbagai teknik pemrosesan teks (text preprocessing) dan algoritma machine learning, kita akan mengkategorikan ulasan pengguna ke dalam sentimen positif, negatif, atau netral. Hasil dari analisis ini dapat memberikan wawasan berharga bagi pengembang aplikasi \"BCA mobile\" untuk mengetahui kelebihan dan kekurangan yang dirasakan pengguna, serta menjadi dasar perbaikan dan pengembangan fitur ke depan."
      ]
    },
    {
      "cell_type": "markdown",
      "metadata": {
        "id": "WM_Qz3ZKeS0G"
      },
      "source": [
        "# 0.&nbsp; Import"
      ]
    },
    {
      "cell_type": "code",
      "execution_count": 1,
      "metadata": {
        "colab": {
          "base_uri": "https://localhost:8080/"
        },
        "id": "gDvVL82leQsc",
        "outputId": "6e5cdec5-0793-4adb-9c8d-de4d20f6597a"
      },
      "outputs": [
        {
          "name": "stdout",
          "output_type": "stream",
          "text": [
            "Collecting google-play-scraper\n",
            "  Downloading google_play_scraper-1.2.7-py3-none-any.whl.metadata (50 kB)\n",
            "\u001b[2K     \u001b[90m━━━━━━━━━━━━━━━━━━━━━━━━━━━━━━━━━━━━━━━━\u001b[0m \u001b[32m50.2/50.2 kB\u001b[0m \u001b[31m1.8 MB/s\u001b[0m eta \u001b[36m0:00:00\u001b[0m\n",
            "\u001b[?25hDownloading google_play_scraper-1.2.7-py3-none-any.whl (28 kB)\n",
            "Installing collected packages: google-play-scraper\n",
            "Successfully installed google-play-scraper-1.2.7\n"
          ]
        }
      ],
      "source": [
        "!pip install google-play-scraper"
      ]
    },
    {
      "cell_type": "code",
      "execution_count": 2,
      "metadata": {
        "id": "7iZ7Pgs8iKgb"
      },
      "outputs": [],
      "source": [
        "# Mengimport pustaka\n",
        "import pandas as pd\n",
        "import time\n",
        "import csv\n",
        "from google_play_scraper import app, Sort, reviews_all"
      ]
    },
    {
      "cell_type": "markdown",
      "metadata": {
        "id": "7ww616woixbw"
      },
      "source": [
        "# 1.&nbsp; Data Scrap Pipeline"
      ]
    },
    {
      "cell_type": "code",
      "execution_count": null,
      "metadata": {
        "id": "xnFKFQ76QXlW"
      },
      "outputs": [],
      "source": [
        "# Mengambil semua ulasan dari aplikasi dengan ID 'com.bca' di Google Play Store.\n",
        "scrapreview = reviews_all(\n",
        "    'com.bca',          # ID aplikasi\n",
        "    lang='id',             # Bahasa ulasan (default: 'en')\n",
        "    country='id',          # Negara (default: 'us')\n",
        "    sort=Sort.MOST_RELEVANT, # Urutan ulasan (default: Sort.MOST_RELEVANT)\n",
        "    count=1000             # Jumlah maksimum ulasan yang ingin diambil\n",
        ")"
      ]
    },
    {
      "cell_type": "markdown",
      "metadata": {
        "id": "j5VFLwG0nUvN"
      },
      "source": [
        "# 2.&nbsp; Scrapping Dataset Preview"
      ]
    },
    {
      "cell_type": "code",
      "execution_count": 4,
      "metadata": {
        "id": "Dklq-vGFndqg"
      },
      "outputs": [],
      "source": [
        "# Menampilkan hasil dalam bentuk DataFrame\n",
        "df_reviews = pd.DataFrame(scrapreview)"
      ]
    },
    {
      "cell_type": "code",
      "execution_count": 5,
      "metadata": {
        "colab": {
          "base_uri": "https://localhost:8080/",
          "height": 1000
        },
        "id": "qPjNEslKnveH",
        "outputId": "efd91eb5-9f82-4de9-cde7-07090cc02302"
      },
      "outputs": [
        {
          "data": {
            "application/vnd.google.colaboratory.intrinsic+json": {
              "type": "dataframe",
              "variable_name": "df_reviews"
            },
            "text/html": [
              "\n",
              "  <div id=\"df-8e1f469a-2d7b-47af-8473-ee7db0adacbe\" class=\"colab-df-container\">\n",
              "    <div>\n",
              "<style scoped>\n",
              "    .dataframe tbody tr th:only-of-type {\n",
              "        vertical-align: middle;\n",
              "    }\n",
              "\n",
              "    .dataframe tbody tr th {\n",
              "        vertical-align: top;\n",
              "    }\n",
              "\n",
              "    .dataframe thead th {\n",
              "        text-align: right;\n",
              "    }\n",
              "</style>\n",
              "<table border=\"1\" class=\"dataframe\">\n",
              "  <thead>\n",
              "    <tr style=\"text-align: right;\">\n",
              "      <th></th>\n",
              "      <th>reviewId</th>\n",
              "      <th>userName</th>\n",
              "      <th>userImage</th>\n",
              "      <th>content</th>\n",
              "      <th>score</th>\n",
              "      <th>thumbsUpCount</th>\n",
              "      <th>reviewCreatedVersion</th>\n",
              "      <th>at</th>\n",
              "      <th>replyContent</th>\n",
              "      <th>repliedAt</th>\n",
              "      <th>appVersion</th>\n",
              "    </tr>\n",
              "  </thead>\n",
              "  <tbody>\n",
              "    <tr>\n",
              "      <th>0</th>\n",
              "      <td>5adb3e71-2577-4f04-a220-3451de82d7d1</td>\n",
              "      <td>Pengguna Google</td>\n",
              "      <td>https://play-lh.googleusercontent.com/EGemoI2N...</td>\n",
              "      <td>u/ versi 4.62 Di menu transfer sesama Bank, un...</td>\n",
              "      <td>4</td>\n",
              "      <td>8</td>\n",
              "      <td>4.6.2</td>\n",
              "      <td>2025-04-20 03:07:19</td>\n",
              "      <td>Mohon maaf atas ketidaknyamanan yang Bapak/Ibu...</td>\n",
              "      <td>2025-04-20 03:09:47</td>\n",
              "      <td>4.6.2</td>\n",
              "    </tr>\n",
              "    <tr>\n",
              "      <th>1</th>\n",
              "      <td>c14a1950-d6c7-4fbf-a652-5467d8b31a19</td>\n",
              "      <td>Pengguna Google</td>\n",
              "      <td>https://play-lh.googleusercontent.com/EGemoI2N...</td>\n",
              "      <td>saya beralih dari myBCA ke aplikasi BCA mobile...</td>\n",
              "      <td>2</td>\n",
              "      <td>2</td>\n",
              "      <td>4.6.3</td>\n",
              "      <td>2025-04-21 09:08:18</td>\n",
              "      <td>Mohon maaf atas ketidaknyamanannya. Saran dan ...</td>\n",
              "      <td>2025-04-21 09:21:54</td>\n",
              "      <td>4.6.3</td>\n",
              "    </tr>\n",
              "    <tr>\n",
              "      <th>2</th>\n",
              "      <td>b5e7c8f8-ee5c-4716-994b-cd4665309edb</td>\n",
              "      <td>Pengguna Google</td>\n",
              "      <td>https://play-lh.googleusercontent.com/EGemoI2N...</td>\n",
              "      <td>parah nih aplikasi, setelah update untuk menu ...</td>\n",
              "      <td>1</td>\n",
              "      <td>72</td>\n",
              "      <td>4.6.2</td>\n",
              "      <td>2025-04-18 12:00:59</td>\n",
              "      <td>Mohon maaf atas ketidaknyamanan yang Bapak/Ibu...</td>\n",
              "      <td>2025-04-18 12:13:27</td>\n",
              "      <td>4.6.2</td>\n",
              "    </tr>\n",
              "    <tr>\n",
              "      <th>3</th>\n",
              "      <td>9e4acabb-824d-4e77-a1cc-480882b994a8</td>\n",
              "      <td>Pengguna Google</td>\n",
              "      <td>https://play-lh.googleusercontent.com/EGemoI2N...</td>\n",
              "      <td>Saat mau transfer, nama tujuan rekening tidak ...</td>\n",
              "      <td>5</td>\n",
              "      <td>81</td>\n",
              "      <td>4.6.3</td>\n",
              "      <td>2025-04-21 07:23:24</td>\n",
              "      <td>Mohon maaf atas ketidaknyamanannya, saat ini s...</td>\n",
              "      <td>2025-04-21 07:32:36</td>\n",
              "      <td>4.6.3</td>\n",
              "    </tr>\n",
              "    <tr>\n",
              "      <th>4</th>\n",
              "      <td>bf905aaf-d767-4c59-a610-ebe2d445097e</td>\n",
              "      <td>Pengguna Google</td>\n",
              "      <td>https://play-lh.googleusercontent.com/EGemoI2N...</td>\n",
              "      <td>Aplikasi bagus dan interfacenya sederhana sehi...</td>\n",
              "      <td>5</td>\n",
              "      <td>4</td>\n",
              "      <td>4.6.3</td>\n",
              "      <td>2025-04-22 03:12:57</td>\n",
              "      <td>Mohon maaf atas ketidaknyamanannya. Saran dan ...</td>\n",
              "      <td>2025-04-22 04:15:27</td>\n",
              "      <td>4.6.3</td>\n",
              "    </tr>\n",
              "    <tr>\n",
              "      <th>5</th>\n",
              "      <td>a3f3e225-e9f0-487b-9119-daa7c19a2b86</td>\n",
              "      <td>Pengguna Google</td>\n",
              "      <td>https://play-lh.googleusercontent.com/EGemoI2N...</td>\n",
              "      <td>tolong segera diperbaiki ya, Bank BCA, agar ti...</td>\n",
              "      <td>2</td>\n",
              "      <td>3</td>\n",
              "      <td>4.6.2</td>\n",
              "      <td>2025-04-20 06:29:29</td>\n",
              "      <td>Mohon maaf atas ketidaknyamanan yang Bapak/Ibu...</td>\n",
              "      <td>2025-04-20 07:22:56</td>\n",
              "      <td>4.6.2</td>\n",
              "    </tr>\n",
              "    <tr>\n",
              "      <th>6</th>\n",
              "      <td>bf846fcc-e17f-4613-ac56-d225b772da95</td>\n",
              "      <td>Pengguna Google</td>\n",
              "      <td>https://play-lh.googleusercontent.com/EGemoI2N...</td>\n",
              "      <td>kenapa rekening terdaftar dimenu transfer anta...</td>\n",
              "      <td>4</td>\n",
              "      <td>97</td>\n",
              "      <td>4.6.2</td>\n",
              "      <td>2025-04-17 04:44:45</td>\n",
              "      <td>Mohon maaf atas ketidaknyamanannya. Saat ini t...</td>\n",
              "      <td>2025-04-17 04:54:23</td>\n",
              "      <td>4.6.2</td>\n",
              "    </tr>\n",
              "    <tr>\n",
              "      <th>7</th>\n",
              "      <td>4382e9a4-b8d3-4c53-bd59-d029a97a18cf</td>\n",
              "      <td>Pengguna Google</td>\n",
              "      <td>https://play-lh.googleusercontent.com/EGemoI2N...</td>\n",
              "      <td>setelah update bukannya tambah simpel, malah r...</td>\n",
              "      <td>1</td>\n",
              "      <td>2</td>\n",
              "      <td>4.6.2</td>\n",
              "      <td>2025-04-19 00:54:05</td>\n",
              "      <td>Mohon maaf atas ketidaknyamanannya, saat ini s...</td>\n",
              "      <td>2025-04-19 02:07:15</td>\n",
              "      <td>4.6.2</td>\n",
              "    </tr>\n",
              "    <tr>\n",
              "      <th>8</th>\n",
              "      <td>4a2d5cb3-e64e-4f06-8d96-473bfcf6423e</td>\n",
              "      <td>Pengguna Google</td>\n",
              "      <td>https://play-lh.googleusercontent.com/EGemoI2N...</td>\n",
              "      <td>ada bug di pencarian nama rekening, harus scro...</td>\n",
              "      <td>5</td>\n",
              "      <td>43</td>\n",
              "      <td>4.6.2</td>\n",
              "      <td>2025-04-19 14:06:26</td>\n",
              "      <td>Mohon maaf atas ketidaknyamanannya. Saran dan ...</td>\n",
              "      <td>2025-04-19 18:02:32</td>\n",
              "      <td>4.6.2</td>\n",
              "    </tr>\n",
              "    <tr>\n",
              "      <th>9</th>\n",
              "      <td>cd2fe4d4-357a-4575-9760-17164910d399</td>\n",
              "      <td>Pengguna Google</td>\n",
              "      <td>https://play-lh.googleusercontent.com/EGemoI2N...</td>\n",
              "      <td>Aplikasi saya begitu mencari nomor rekening te...</td>\n",
              "      <td>1</td>\n",
              "      <td>46</td>\n",
              "      <td>4.6.2</td>\n",
              "      <td>2025-04-19 03:04:21</td>\n",
              "      <td>Mohon maaf atas ketidaknyamanannya, saat ini s...</td>\n",
              "      <td>2025-04-19 03:32:05</td>\n",
              "      <td>4.6.2</td>\n",
              "    </tr>\n",
              "  </tbody>\n",
              "</table>\n",
              "</div>\n",
              "    <div class=\"colab-df-buttons\">\n",
              "\n",
              "  <div class=\"colab-df-container\">\n",
              "    <button class=\"colab-df-convert\" onclick=\"convertToInteractive('df-8e1f469a-2d7b-47af-8473-ee7db0adacbe')\"\n",
              "            title=\"Convert this dataframe to an interactive table.\"\n",
              "            style=\"display:none;\">\n",
              "\n",
              "  <svg xmlns=\"http://www.w3.org/2000/svg\" height=\"24px\" viewBox=\"0 -960 960 960\">\n",
              "    <path d=\"M120-120v-720h720v720H120Zm60-500h600v-160H180v160Zm220 220h160v-160H400v160Zm0 220h160v-160H400v160ZM180-400h160v-160H180v160Zm440 0h160v-160H620v160ZM180-180h160v-160H180v160Zm440 0h160v-160H620v160Z\"/>\n",
              "  </svg>\n",
              "    </button>\n",
              "\n",
              "  <style>\n",
              "    .colab-df-container {\n",
              "      display:flex;\n",
              "      gap: 12px;\n",
              "    }\n",
              "\n",
              "    .colab-df-convert {\n",
              "      background-color: #E8F0FE;\n",
              "      border: none;\n",
              "      border-radius: 50%;\n",
              "      cursor: pointer;\n",
              "      display: none;\n",
              "      fill: #1967D2;\n",
              "      height: 32px;\n",
              "      padding: 0 0 0 0;\n",
              "      width: 32px;\n",
              "    }\n",
              "\n",
              "    .colab-df-convert:hover {\n",
              "      background-color: #E2EBFA;\n",
              "      box-shadow: 0px 1px 2px rgba(60, 64, 67, 0.3), 0px 1px 3px 1px rgba(60, 64, 67, 0.15);\n",
              "      fill: #174EA6;\n",
              "    }\n",
              "\n",
              "    .colab-df-buttons div {\n",
              "      margin-bottom: 4px;\n",
              "    }\n",
              "\n",
              "    [theme=dark] .colab-df-convert {\n",
              "      background-color: #3B4455;\n",
              "      fill: #D2E3FC;\n",
              "    }\n",
              "\n",
              "    [theme=dark] .colab-df-convert:hover {\n",
              "      background-color: #434B5C;\n",
              "      box-shadow: 0px 1px 3px 1px rgba(0, 0, 0, 0.15);\n",
              "      filter: drop-shadow(0px 1px 2px rgba(0, 0, 0, 0.3));\n",
              "      fill: #FFFFFF;\n",
              "    }\n",
              "  </style>\n",
              "\n",
              "    <script>\n",
              "      const buttonEl =\n",
              "        document.querySelector('#df-8e1f469a-2d7b-47af-8473-ee7db0adacbe button.colab-df-convert');\n",
              "      buttonEl.style.display =\n",
              "        google.colab.kernel.accessAllowed ? 'block' : 'none';\n",
              "\n",
              "      async function convertToInteractive(key) {\n",
              "        const element = document.querySelector('#df-8e1f469a-2d7b-47af-8473-ee7db0adacbe');\n",
              "        const dataTable =\n",
              "          await google.colab.kernel.invokeFunction('convertToInteractive',\n",
              "                                                    [key], {});\n",
              "        if (!dataTable) return;\n",
              "\n",
              "        const docLinkHtml = 'Like what you see? Visit the ' +\n",
              "          '<a target=\"_blank\" href=https://colab.research.google.com/notebooks/data_table.ipynb>data table notebook</a>'\n",
              "          + ' to learn more about interactive tables.';\n",
              "        element.innerHTML = '';\n",
              "        dataTable['output_type'] = 'display_data';\n",
              "        await google.colab.output.renderOutput(dataTable, element);\n",
              "        const docLink = document.createElement('div');\n",
              "        docLink.innerHTML = docLinkHtml;\n",
              "        element.appendChild(docLink);\n",
              "      }\n",
              "    </script>\n",
              "  </div>\n",
              "\n",
              "\n",
              "<div id=\"df-4d148816-f97f-4b01-a105-ace8440025a4\">\n",
              "  <button class=\"colab-df-quickchart\" onclick=\"quickchart('df-4d148816-f97f-4b01-a105-ace8440025a4')\"\n",
              "            title=\"Suggest charts\"\n",
              "            style=\"display:none;\">\n",
              "\n",
              "<svg xmlns=\"http://www.w3.org/2000/svg\" height=\"24px\"viewBox=\"0 0 24 24\"\n",
              "     width=\"24px\">\n",
              "    <g>\n",
              "        <path d=\"M19 3H5c-1.1 0-2 .9-2 2v14c0 1.1.9 2 2 2h14c1.1 0 2-.9 2-2V5c0-1.1-.9-2-2-2zM9 17H7v-7h2v7zm4 0h-2V7h2v10zm4 0h-2v-4h2v4z\"/>\n",
              "    </g>\n",
              "</svg>\n",
              "  </button>\n",
              "\n",
              "<style>\n",
              "  .colab-df-quickchart {\n",
              "      --bg-color: #E8F0FE;\n",
              "      --fill-color: #1967D2;\n",
              "      --hover-bg-color: #E2EBFA;\n",
              "      --hover-fill-color: #174EA6;\n",
              "      --disabled-fill-color: #AAA;\n",
              "      --disabled-bg-color: #DDD;\n",
              "  }\n",
              "\n",
              "  [theme=dark] .colab-df-quickchart {\n",
              "      --bg-color: #3B4455;\n",
              "      --fill-color: #D2E3FC;\n",
              "      --hover-bg-color: #434B5C;\n",
              "      --hover-fill-color: #FFFFFF;\n",
              "      --disabled-bg-color: #3B4455;\n",
              "      --disabled-fill-color: #666;\n",
              "  }\n",
              "\n",
              "  .colab-df-quickchart {\n",
              "    background-color: var(--bg-color);\n",
              "    border: none;\n",
              "    border-radius: 50%;\n",
              "    cursor: pointer;\n",
              "    display: none;\n",
              "    fill: var(--fill-color);\n",
              "    height: 32px;\n",
              "    padding: 0;\n",
              "    width: 32px;\n",
              "  }\n",
              "\n",
              "  .colab-df-quickchart:hover {\n",
              "    background-color: var(--hover-bg-color);\n",
              "    box-shadow: 0 1px 2px rgba(60, 64, 67, 0.3), 0 1px 3px 1px rgba(60, 64, 67, 0.15);\n",
              "    fill: var(--button-hover-fill-color);\n",
              "  }\n",
              "\n",
              "  .colab-df-quickchart-complete:disabled,\n",
              "  .colab-df-quickchart-complete:disabled:hover {\n",
              "    background-color: var(--disabled-bg-color);\n",
              "    fill: var(--disabled-fill-color);\n",
              "    box-shadow: none;\n",
              "  }\n",
              "\n",
              "  .colab-df-spinner {\n",
              "    border: 2px solid var(--fill-color);\n",
              "    border-color: transparent;\n",
              "    border-bottom-color: var(--fill-color);\n",
              "    animation:\n",
              "      spin 1s steps(1) infinite;\n",
              "  }\n",
              "\n",
              "  @keyframes spin {\n",
              "    0% {\n",
              "      border-color: transparent;\n",
              "      border-bottom-color: var(--fill-color);\n",
              "      border-left-color: var(--fill-color);\n",
              "    }\n",
              "    20% {\n",
              "      border-color: transparent;\n",
              "      border-left-color: var(--fill-color);\n",
              "      border-top-color: var(--fill-color);\n",
              "    }\n",
              "    30% {\n",
              "      border-color: transparent;\n",
              "      border-left-color: var(--fill-color);\n",
              "      border-top-color: var(--fill-color);\n",
              "      border-right-color: var(--fill-color);\n",
              "    }\n",
              "    40% {\n",
              "      border-color: transparent;\n",
              "      border-right-color: var(--fill-color);\n",
              "      border-top-color: var(--fill-color);\n",
              "    }\n",
              "    60% {\n",
              "      border-color: transparent;\n",
              "      border-right-color: var(--fill-color);\n",
              "    }\n",
              "    80% {\n",
              "      border-color: transparent;\n",
              "      border-right-color: var(--fill-color);\n",
              "      border-bottom-color: var(--fill-color);\n",
              "    }\n",
              "    90% {\n",
              "      border-color: transparent;\n",
              "      border-bottom-color: var(--fill-color);\n",
              "    }\n",
              "  }\n",
              "</style>\n",
              "\n",
              "  <script>\n",
              "    async function quickchart(key) {\n",
              "      const quickchartButtonEl =\n",
              "        document.querySelector('#' + key + ' button');\n",
              "      quickchartButtonEl.disabled = true;  // To prevent multiple clicks.\n",
              "      quickchartButtonEl.classList.add('colab-df-spinner');\n",
              "      try {\n",
              "        const charts = await google.colab.kernel.invokeFunction(\n",
              "            'suggestCharts', [key], {});\n",
              "      } catch (error) {\n",
              "        console.error('Error during call to suggestCharts:', error);\n",
              "      }\n",
              "      quickchartButtonEl.classList.remove('colab-df-spinner');\n",
              "      quickchartButtonEl.classList.add('colab-df-quickchart-complete');\n",
              "    }\n",
              "    (() => {\n",
              "      let quickchartButtonEl =\n",
              "        document.querySelector('#df-4d148816-f97f-4b01-a105-ace8440025a4 button');\n",
              "      quickchartButtonEl.style.display =\n",
              "        google.colab.kernel.accessAllowed ? 'block' : 'none';\n",
              "    })();\n",
              "  </script>\n",
              "</div>\n",
              "\n",
              "    </div>\n",
              "  </div>\n"
            ],
            "text/plain": [
              "                               reviewId         userName  \\\n",
              "0  5adb3e71-2577-4f04-a220-3451de82d7d1  Pengguna Google   \n",
              "1  c14a1950-d6c7-4fbf-a652-5467d8b31a19  Pengguna Google   \n",
              "2  b5e7c8f8-ee5c-4716-994b-cd4665309edb  Pengguna Google   \n",
              "3  9e4acabb-824d-4e77-a1cc-480882b994a8  Pengguna Google   \n",
              "4  bf905aaf-d767-4c59-a610-ebe2d445097e  Pengguna Google   \n",
              "5  a3f3e225-e9f0-487b-9119-daa7c19a2b86  Pengguna Google   \n",
              "6  bf846fcc-e17f-4613-ac56-d225b772da95  Pengguna Google   \n",
              "7  4382e9a4-b8d3-4c53-bd59-d029a97a18cf  Pengguna Google   \n",
              "8  4a2d5cb3-e64e-4f06-8d96-473bfcf6423e  Pengguna Google   \n",
              "9  cd2fe4d4-357a-4575-9760-17164910d399  Pengguna Google   \n",
              "\n",
              "                                           userImage  \\\n",
              "0  https://play-lh.googleusercontent.com/EGemoI2N...   \n",
              "1  https://play-lh.googleusercontent.com/EGemoI2N...   \n",
              "2  https://play-lh.googleusercontent.com/EGemoI2N...   \n",
              "3  https://play-lh.googleusercontent.com/EGemoI2N...   \n",
              "4  https://play-lh.googleusercontent.com/EGemoI2N...   \n",
              "5  https://play-lh.googleusercontent.com/EGemoI2N...   \n",
              "6  https://play-lh.googleusercontent.com/EGemoI2N...   \n",
              "7  https://play-lh.googleusercontent.com/EGemoI2N...   \n",
              "8  https://play-lh.googleusercontent.com/EGemoI2N...   \n",
              "9  https://play-lh.googleusercontent.com/EGemoI2N...   \n",
              "\n",
              "                                             content  score  thumbsUpCount  \\\n",
              "0  u/ versi 4.62 Di menu transfer sesama Bank, un...      4              8   \n",
              "1  saya beralih dari myBCA ke aplikasi BCA mobile...      2              2   \n",
              "2  parah nih aplikasi, setelah update untuk menu ...      1             72   \n",
              "3  Saat mau transfer, nama tujuan rekening tidak ...      5             81   \n",
              "4  Aplikasi bagus dan interfacenya sederhana sehi...      5              4   \n",
              "5  tolong segera diperbaiki ya, Bank BCA, agar ti...      2              3   \n",
              "6  kenapa rekening terdaftar dimenu transfer anta...      4             97   \n",
              "7  setelah update bukannya tambah simpel, malah r...      1              2   \n",
              "8  ada bug di pencarian nama rekening, harus scro...      5             43   \n",
              "9  Aplikasi saya begitu mencari nomor rekening te...      1             46   \n",
              "\n",
              "  reviewCreatedVersion                  at  \\\n",
              "0                4.6.2 2025-04-20 03:07:19   \n",
              "1                4.6.3 2025-04-21 09:08:18   \n",
              "2                4.6.2 2025-04-18 12:00:59   \n",
              "3                4.6.3 2025-04-21 07:23:24   \n",
              "4                4.6.3 2025-04-22 03:12:57   \n",
              "5                4.6.2 2025-04-20 06:29:29   \n",
              "6                4.6.2 2025-04-17 04:44:45   \n",
              "7                4.6.2 2025-04-19 00:54:05   \n",
              "8                4.6.2 2025-04-19 14:06:26   \n",
              "9                4.6.2 2025-04-19 03:04:21   \n",
              "\n",
              "                                        replyContent           repliedAt  \\\n",
              "0  Mohon maaf atas ketidaknyamanan yang Bapak/Ibu... 2025-04-20 03:09:47   \n",
              "1  Mohon maaf atas ketidaknyamanannya. Saran dan ... 2025-04-21 09:21:54   \n",
              "2  Mohon maaf atas ketidaknyamanan yang Bapak/Ibu... 2025-04-18 12:13:27   \n",
              "3  Mohon maaf atas ketidaknyamanannya, saat ini s... 2025-04-21 07:32:36   \n",
              "4  Mohon maaf atas ketidaknyamanannya. Saran dan ... 2025-04-22 04:15:27   \n",
              "5  Mohon maaf atas ketidaknyamanan yang Bapak/Ibu... 2025-04-20 07:22:56   \n",
              "6  Mohon maaf atas ketidaknyamanannya. Saat ini t... 2025-04-17 04:54:23   \n",
              "7  Mohon maaf atas ketidaknyamanannya, saat ini s... 2025-04-19 02:07:15   \n",
              "8  Mohon maaf atas ketidaknyamanannya. Saran dan ... 2025-04-19 18:02:32   \n",
              "9  Mohon maaf atas ketidaknyamanannya, saat ini s... 2025-04-19 03:32:05   \n",
              "\n",
              "  appVersion  \n",
              "0      4.6.2  \n",
              "1      4.6.3  \n",
              "2      4.6.2  \n",
              "3      4.6.3  \n",
              "4      4.6.3  \n",
              "5      4.6.2  \n",
              "6      4.6.2  \n",
              "7      4.6.2  \n",
              "8      4.6.2  \n",
              "9      4.6.2  "
            ]
          },
          "execution_count": 5,
          "metadata": {},
          "output_type": "execute_result"
        }
      ],
      "source": [
        "df_reviews.head(10)"
      ]
    },
    {
      "cell_type": "code",
      "execution_count": 6,
      "metadata": {
        "colab": {
          "base_uri": "https://localhost:8080/"
        },
        "id": "M7PzIMT0SrZB",
        "outputId": "9f55110d-84e9-46f1-803b-d4e76bd1f68e"
      },
      "outputs": [
        {
          "name": "stdout",
          "output_type": "stream",
          "text": [
            "Total data akan disimpan: 112500\n"
          ]
        }
      ],
      "source": [
        "print(f\"Total data akan disimpan: {len(scrapreview)}\")"
      ]
    },
    {
      "cell_type": "code",
      "execution_count": 7,
      "metadata": {
        "colab": {
          "base_uri": "https://localhost:8080/"
        },
        "id": "D7RVRqHPn62A",
        "outputId": "521c5aa2-9ab9-41b4-d8ba-980c3e5b1f63"
      },
      "outputs": [
        {
          "data": {
            "text/plain": [
              "(112500, 11)"
            ]
          },
          "execution_count": 7,
          "metadata": {},
          "output_type": "execute_result"
        }
      ],
      "source": [
        "df_reviews.shape"
      ]
    },
    {
      "cell_type": "code",
      "execution_count": 9,
      "metadata": {
        "colab": {
          "base_uri": "https://localhost:8080/"
        },
        "id": "sJjG2dFgyunk",
        "outputId": "f54d6fc6-8c41-4486-baa4-c12024203e13"
      },
      "outputs": [
        {
          "name": "stdout",
          "output_type": "stream",
          "text": [
            "<class 'pandas.core.frame.DataFrame'>\n",
            "RangeIndex: 112500 entries, 0 to 112499\n",
            "Data columns (total 11 columns):\n",
            " #   Column                Non-Null Count   Dtype         \n",
            "---  ------                --------------   -----         \n",
            " 0   reviewId              112500 non-null  object        \n",
            " 1   userName              112500 non-null  object        \n",
            " 2   userImage             112500 non-null  object        \n",
            " 3   content               112500 non-null  object        \n",
            " 4   score                 112500 non-null  int64         \n",
            " 5   thumbsUpCount         112500 non-null  int64         \n",
            " 6   reviewCreatedVersion  92389 non-null   object        \n",
            " 7   at                    112500 non-null  datetime64[ns]\n",
            " 8   replyContent          107699 non-null  object        \n",
            " 9   repliedAt             107699 non-null  datetime64[ns]\n",
            " 10  appVersion            92389 non-null   object        \n",
            "dtypes: datetime64[ns](2), int64(2), object(7)\n",
            "memory usage: 9.4+ MB\n"
          ]
        }
      ],
      "source": [
        "df_reviews.info()"
      ]
    },
    {
      "cell_type": "markdown",
      "metadata": {
        "id": "F1YcaTuJp7nS"
      },
      "source": [
        "# 3.&nbsp; Save Result to CSV file"
      ]
    },
    {
      "cell_type": "code",
      "execution_count": 11,
      "metadata": {
        "colab": {
          "base_uri": "https://localhost:8080/"
        },
        "id": "j6oxAaaum8_Y",
        "outputId": "748eeb98-e674-444a-ff4b-20ea907ee944"
      },
      "outputs": [
        {
          "name": "stdout",
          "output_type": "stream",
          "text": [
            "Berhasil menyimpan 112500 ulasan ke dalam 'ulasan_BCAmobile.csv'\n"
          ]
        }
      ],
      "source": [
        "# Definisikan nama kolom\n",
        "fieldnames = [\n",
        "    'reviewId',\n",
        "    'userName',\n",
        "    'userImage',\n",
        "    'content',\n",
        "    'score',\n",
        "    'thumbsUpCount',\n",
        "    'reviewCreatedVersion',\n",
        "    'at',\n",
        "    'replyContent',\n",
        "    'repliedAt',\n",
        "    'appVersion'\n",
        "]\n",
        "\n",
        "# Simpan hasil scrape ke CSV\n",
        "with open('ulasan_BCAmobile.csv', mode='w', newline='', encoding='utf-8') as file:\n",
        "    writer = csv.DictWriter(file, fieldnames=fieldnames)\n",
        "    writer.writeheader()\n",
        "    for review in scrapreview:\n",
        "        writer.writerow(review)\n",
        "\n",
        "print(f\"Berhasil menyimpan {len(scrapreview)} ulasan ke dalam 'ulasan_BCAmobile.csv'\")"
      ]
    }
  ],
  "metadata": {
    "colab": {
      "provenance": []
    },
    "kernelspec": {
      "display_name": "Python 3",
      "name": "python3"
    },
    "language_info": {
      "name": "python"
    }
  },
  "nbformat": 4,
  "nbformat_minor": 0
}
